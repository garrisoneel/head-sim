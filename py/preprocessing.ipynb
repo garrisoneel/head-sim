{
 "cells": [
  {
   "cell_type": "code",
   "execution_count": 96,
   "metadata": {},
   "outputs": [],
   "source": [
    "from scipy.io.wavfile import read as wavread\n",
    "import numpy as np\n",
    "from matplotlib import pyplot as plt\n",
    "import keras\n",
    "import os\n",
    "\n",
    "def ms_to_samples(ms, sample_rate=44100):\n",
    "    return int(ms/1e3*sample_rate)"
   ]
  },
  {
   "cell_type": "code",
   "execution_count": 97,
   "metadata": {},
   "outputs": [
    {
     "name": "stdout",
     "output_type": "stream",
     "text": [
      "Samplesets:\n",
      "0: chorus\n",
      "1: HT5 clean\n",
      "2: HT5 dirty\n",
      "3: HT5 preamp\n",
      "4: wampler\n"
     ]
    }
   ],
   "source": [
    "#sampleset = \"HT5 Preamp\"\n",
    "samplesdir = os.path.abspath(\"..\\samples\")\n",
    "opts = [folder for folder in os.listdir(samplesdir) if os.path.isdir(os.path.join(samplesdir,folder))]\n",
    "print(\"Samplesets:\")\n",
    "for k in range(len(opts)):\n",
    "    print(\"%d: %s\" % (k,opts[k]))\n",
    "\n",
    "# datadir = os.path.abspath(\"..\\data\\\")\n",
    "# #relpath(\"../data/\")\n",
    "# print(datadir)"
   ]
  },
  {
   "cell_type": "code",
   "execution_count": 98,
   "metadata": {},
   "outputs": [
    {
     "name": "stdout",
     "output_type": "stream",
     "text": [
      "Samples:\n",
      "0: stratp1_ht5.wav\n",
      "1: stratp4_ht5.wav\n",
      "2: stratp5_ht5.wav\n"
     ]
    }
   ],
   "source": [
    "opt = 3\n",
    "sampledir = os.path.join(samplesdir,opts[opt])\n",
    "datadir = os.path.join(os.path.abspath(\"..\\data\"),opts[opt])\n",
    "if not os.path.exists(datadir):\n",
    "    os.mkdir(datadir)\n",
    "#print(\"Samples location: %s\\nData location: %s\" % (sampledir,datadir))\n",
    "\n",
    "samples = [file for file in os.listdir(sampledir) if file.endswith('.wav')]\n",
    "print(\"Samples:\")\n",
    "for k in range(len(samples)):\n",
    "    print(\"%d: %s\" % (k,samples[k]))"
   ]
  },
  {
   "cell_type": "code",
   "execution_count": 99,
   "metadata": {},
   "outputs": [
    {
     "name": "stdout",
     "output_type": "stream",
     "text": [
      "File: E:\\Dev\\head-sim\\samples\\HT5 preamp\\stratp5_ht5.wav\n",
      "NumSamples: 1004672\n",
      "Channels: 2\n",
      "Duration: 22.782s\n"
     ]
    }
   ],
   "source": [
    "pick = 2\n",
    "sample_file = os.path.join(sampledir,samples[pick])\n",
    "(sample_rate,data) = wavread(sample_file)\n",
    "#get length of audio\n",
    "duration = data.shape[0]/sample_rate\n",
    "print(\"File: %s\" % sample_file)\n",
    "print(\"NumSamples: %d\\nChannels: %d\" % data.shape)\n",
    "print(\"Duration: %.3fs\" % duration)\n",
    "\n",
    "#normalize signal\n",
    "norm_data = data/np.iinfo(np.int16).max\n",
    "G = norm_data[:,0] #channel 0 is L - guitar\n",
    "E = norm_data[:,1] #channel 1 is R - effect"
   ]
  },
  {
   "cell_type": "code",
   "execution_count": 100,
   "metadata": {},
   "outputs": [
    {
     "data": {
      "image/png": "[encoded data removed]",
      "text/plain": [
       "<Figure size 864x144 with 2 Axes>"
      ]
     },
     "metadata": {
      "needs_background": "light"
     },
     "output_type": "display_data"
    }
   ],
   "source": [
    "tim = np.linspace(0,duration,data.shape[0])\n",
    "\n",
    "#make a big figure\n",
    "plt.figure(figsize=(12,2)) #dpi=80\n",
    "\n",
    "plt.subplot(1,2,1)\n",
    "plt.plot(tim,G,'b') #guitar = blue\n",
    "plt.subplot(1,2,2)\n",
    "plt.plot(tim,E,'r') #effect = red\n",
    "plt.show()"
   ]
  },
  {
   "cell_type": "code",
   "execution_count": 101,
   "metadata": {},
   "outputs": [
    {
     "name": "stdout",
     "output_type": "stream",
     "text": [
      "|  Guitar       |      Effect   |\n",
      "|  Min  |  Max  |  Min  |  Max  |\n",
      "| -0.487| +0.456| -0.436| +0.580|\n"
     ]
    }
   ],
   "source": [
    "#stats\n",
    "maxg = np.max(G)\n",
    "maxe = np.max(E)\n",
    "ming = np.min(G)\n",
    "mine = np.min(E)\n",
    "print(\"|  %-13s|%12s   |\\n|  Min  |  Max  |  Min  |  Max  |\\n| %+1.3f| %+1.3f| %+1.3f| %+.3f|\" % (\"Guitar\", \"Effect\", ming,maxg,mine,maxe))"
   ]
  },
  {
   "cell_type": "code",
   "execution_count": 102,
   "metadata": {},
   "outputs": [
    {
     "name": "stdout",
     "output_type": "stream",
     "text": [
      "Number of datapoints per input: 4410\n",
      "Total number of examples: 1000218\n",
      "Memory needed (GiB):\n",
      "X: 8.8219\n",
      "Y: 0.0880\n"
     ]
    }
   ],
   "source": [
    "#for audio, keep some buffer of samples, \n",
    "#array x: audio samples from input, length tbd\n",
    "#array y: audio samples from output, length tbd\n",
    "in_buf = ms_to_samples(100)\n",
    "out_buf = ms_to_samples(1)\n",
    "print(\"Number of datapoints per input: %d\" % in_buf)\n",
    "\n",
    "# first output sample starts at in_buf and last sample needs to be out_buf from the end\n",
    "numexamples = G.shape[0] - in_buf - out_buf\n",
    "print(\"Total number of examples: %d\" % numexamples)\n",
    "print(\"Memory needed (GiB):\\nX: %.4f\\nY: %.4f\" % (numexamples*in_buf*16/8/1e9,numexamples*out_buf*16/8/1e9))"
   ]
  },
  {
   "cell_type": "code",
   "execution_count": 103,
   "metadata": {},
   "outputs": [
    {
     "name": "stdout",
     "output_type": "stream",
     "text": [
      "Files will be up to 99.99MB\n",
      "11337 examples per file\n",
      "89 files\n"
     ]
    }
   ],
   "source": [
    "#numexamples = 10\n",
    "desired_filesize = 100e6 #size in bytes\n",
    "ex_per_file = int(np.floor(desired_filesize/(in_buf*2)))\n",
    "out_filesize = ex_per_file*(in_buf*2)\n",
    "numfiles = int(np.ceil(numexamples/ex_per_file))\n",
    "\n",
    "print(\"Files will be up to %.2fMB\\n%d examples per file\\n%d files\" % (out_filesize/1e6,ex_per_file,numfiles))"
   ]
  },
  {
   "cell_type": "code",
   "execution_count": 93,
   "metadata": {},
   "outputs": [
    {
     "name": "stdout",
     "output_type": "stream",
     "text": [
      "batch 000 complete\n",
      "batch 088 complete\n",
      "batch 176 complete\n",
      "batch 264 complete\n",
      "batch 352 complete\n",
      "batch 440 complete\n",
      "batch 528 complete\n",
      "batch 616 complete\n",
      "batch 704 complete\n",
      "batch 792 complete\n",
      "batch 880 complete\n"
     ]
    }
   ],
   "source": [
    "X = np.zeros((ex_per_file,in_buf),dtype=np.float16)\n",
    "Y = np.zeros((ex_per_file,out_buf),dtype=np.float16)\n",
    "fn_len = int(np.log10(numfiles))+1\n",
    "for batch in range(numfiles):\n",
    "    xfn = os.path.join(datadir,\"%0*d_x\"%(fn_len,batch))\n",
    "    yfn = os.path.join(datadir,\"%0*d_y\"%(fn_len,batch))\n",
    "    if batch%int(numfiles/10)==0:\n",
    "        print(\"batch %0*d complete\" % (fn_len,batch))\n",
    "    if numexamples-batch*ex_per_file < ex_per_file:\n",
    "        ex_this_file = numexamples-batch*ex_per_file\n",
    "        X = np.zeros((ex_this_file,in_buf),dtype=np.float16)\n",
    "        Y = np.zeros((ex_this_file,out_buf),dtype=np.float16)\n",
    "    else:\n",
    "        ex_this_file = ex_per_file\n",
    "            \n",
    "    for ex in range(ex_this_file):\n",
    "        start = ex+batch*ex_per_file\n",
    "        endx = start+in_buf\n",
    "        endy = endx+out_buf\n",
    "        X[ex] = G[start:endx]\n",
    "        Y[ex] = E[endx:endy]   \n",
    "#    np.save(xfn,X) #comment to prevent writing to disk\n",
    "#    np.save(yfn,Y) #comment to prevent writing to disk"
   ]
  },
  {
   "cell_type": "code",
   "execution_count": null,
   "metadata": {},
   "outputs": [],
   "source": []
  }
 ],
 "metadata": {
  "kernelspec": {
   "display_name": "Python 3",
   "language": "python",
   "name": "python3"
  },
  "language_info": {
   "codemirror_mode": {
    "name": "ipython",
    "version": 3
   },
   "file_extension": ".py",
   "mimetype": "text/x-python",
   "name": "python",
   "nbconvert_exporter": "python",
   "pygments_lexer": "ipython3",
   "version": "3.7.4"
  }
 },
 "nbformat": 4,
 "nbformat_minor": 2
}
