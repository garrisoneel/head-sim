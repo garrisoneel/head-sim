{
 "cells": [
  {
   "cell_type": "code",
   "execution_count": 59,
   "metadata": {},
   "outputs": [],
   "source": [
    "from scipy.io.wavfile import read as wavread\n",
    "import numpy as np\n",
    "from matplotlib import pyplot as plt\n",
    "import keras\n",
    "import os\n",
    "import pickle\n",
    "\n",
    "def tti(s,sample_rate=44100):\n",
    "    return int(s*sample_rate)\n",
    "\n",
    "def ms_to_idx(ms, sample_rate=44100):\n",
    "    return tti(ms/1e3)"
   ]
  },
  {
   "cell_type": "code",
   "execution_count": 3,
   "metadata": {},
   "outputs": [
    {
     "name": "stdout",
     "output_type": "stream",
     "text": [
      "Samplesets:\n",
      "0: chorus\n",
      "1: HT5 clean\n",
      "2: HT5 dirty\n",
      "3: HT5 preamp\n",
      "4: wampler\n"
     ]
    }
   ],
   "source": [
    "#sampleset = \"HT5 Preamp\"\n",
    "samplesdir = os.path.abspath(\"..\\samples\")\n",
    "opts = [folder for folder in os.listdir(samplesdir) if os.path.isdir(os.path.join(samplesdir,folder))]\n",
    "print(\"Samplesets:\")\n",
    "for k in range(len(opts)):\n",
    "    print(\"%d: %s\" % (k,opts[k]))\n",
    "\n",
    "# datadir = os.path.abspath(\"..\\data\\\")\n",
    "# #relpath(\"../data/\")\n",
    "# print(datadir)"
   ]
  },
  {
   "cell_type": "code",
   "execution_count": 4,
   "metadata": {},
   "outputs": [
    {
     "name": "stdout",
     "output_type": "stream",
     "text": [
      "Samples:\n",
      "0: stratp1_ht5.wav\n",
      "1: stratp4_ht5.wav\n",
      "2: stratp5_ht5.wav\n"
     ]
    }
   ],
   "source": [
    "opt = 3\n",
    "sampledir = os.path.join(samplesdir,opts[opt])\n",
    "datadir = os.path.join(os.path.abspath(\"..\\data\"),opts[opt])\n",
    "if not os.path.exists(datadir):\n",
    "    os.mkdir(datadir)\n",
    "#print(\"Samples location: %s\\nData location: %s\" % (sampledir,datadir))\n",
    "\n",
    "samples = [file for file in os.listdir(sampledir) if file.endswith('.wav')]\n",
    "print(\"Samples:\")\n",
    "for k in range(len(samples)):\n",
    "    print(\"%d: %s\" % (k,samples[k]))"
   ]
  },
  {
   "cell_type": "code",
   "execution_count": 30,
   "metadata": {},
   "outputs": [
    {
     "name": "stdout",
     "output_type": "stream",
     "text": [
      "File: E:\\Dev\\head-sim\\samples\\HT5 preamp\\stratp5_ht5.wav\n",
      "NumSamples: 1004672\n",
      "Channels: 2\n",
      "Sample Rate 44100\n",
      "Duration: 22.782s\n"
     ]
    }
   ],
   "source": [
    "pick = 2\n",
    "sample_file = os.path.join(sampledir,samples[pick])\n",
    "(sample_rate,data) = wavread(sample_file)\n",
    "#get length of audio\n",
    "duration = data.shape[0]/sample_rate\n",
    "print(\"File: %s\" % sample_file)\n",
    "print(\"NumSamples: %d\\nChannels: %d\" % data.shape)\n",
    "print(\"Sample Rate %d\\nDuration: %.3fs\" % (sample_rate,duration))\n",
    "\n",
    "#normalize signal\n",
    "norm_data = data/np.iinfo(np.int16).max\n",
    "G = norm_data[:,0] #channel 0 is L - guitar\n",
    "E = norm_data[:,1] #channel 1 is R - effect"
   ]
  },
  {
   "cell_type": "code",
   "execution_count": 71,
   "metadata": {},
   "outputs": [
    {
     "name": "stdout",
     "output_type": "stream",
     "text": [
      "Number of datapoints per input: 4410\n",
      "sample 200 is centered at 4610, starts at 200, and ends at 27101\n"
     ]
    }
   ],
   "source": [
    "#for audio, keep some buffer of samples, \n",
    "#array x: audio samples from input, length tbd\n",
    "#array y: audio samples from output, length tbd\n",
    "in_buf = ms_to_samples(100)\n",
    "out_buf = ms_to_samples(10)\n",
    "# in_buf = 10\n",
    "# out_buf = 100\n",
    "\n",
    "print(\"Number of datapoints per input: %d\" % in_buf)\n",
    "\n",
    "#we're going to split the WAVs into numbered chunk \"batches\"\n",
    "# each file will be ~1s? pick a duration\n",
    "\n",
    "batch_size = tti(0.5) #in samples\n",
    "\n",
    "sample = lambda b,l=1: slice(b, b + l-1 + out_buf + in_buf)\n",
    "batch = lambda b: sample(batch_size*(b-1), batch_size)\n"
   ]
  },
  {
   "cell_type": "code",
   "execution_count": 70,
   "metadata": {},
   "outputs": [
    {
     "name": "stdout",
     "output_type": "stream",
     "text": [
      "making 16 batches total\n"
     ]
    }
   ],
   "source": [
    "usable_len = data.shape[0] - in_buf - out_buf + 1\n",
    "batches = int(np.ceil(usable_len/batch_size))\n",
    "fn_len = int(np.log10(batches+1))+1\n",
    "print(\"making %d batches total\" % batches)\n",
    "\n",
    "for b in range(1,batches+1):\n",
    "    dct = {\n",
    "    \"filename\": sample_file,\n",
    "    \"start\": in_buf + b*batch_size,\n",
    "    \"samples\": batch_size,\n",
    "    \"X\": norm_data[batch(b),0],\n",
    "    \"Y\": norm_data[batch(b),1],\n",
    "    }\n",
    "    with open(os.path.join(datadir,\"%0*d.pkl\"%(fn_len,b)),'wb') as f:\n",
    "        pickle.dump(dct,f)\n",
    "    "
   ]
  },
  {
   "cell_type": "code",
   "execution_count": 70,
   "metadata": {},
   "outputs": [
    {
     "name": "stdout",
     "output_type": "stream",
     "text": [
      "making 16 batches total\n"
     ]
    }
   ],
   "source": [
    "usable_len = data.shape[0] - in_buf - out_buf + 1\n",
    "batches = int(np.ceil(usable_len/batch_size))\n",
    "fn_len = int(np.log10(batches+1))+1\n",
    "print(\"making %d batches total\" % batches)\n",
    "\n",
    "for b in range(1,batches+1):\n",
    "    dct = {\n",
    "    \"filename\": sample_file,\n",
    "    \"start\": in_buf + b*batch_size,\n",
    "    \"samples\": batch_size,\n",
    "    \"X\": norm_data[batch(b),0],\n",
    "    \"Y\": norm_data[batch(b),1],\n",
    "    }\n",
    "    with open(os.path.join(datadir,\"%0*d.pkl\"%(fn_len,b)),'wb') as f:\n",
    "        pickle.dump(dct,f)\n",
    "    "
   ]
  },
  {
   "cell_type": "code",
   "execution_count": null,
   "metadata": {},
   "outputs": [],
   "source": []
  },
  {
   "cell_type": "code",
   "execution_count": 102,
   "metadata": {},
   "outputs": [],
   "source": [
    "def genbatches(sample_folder, batchsize=40000, inbuf=4410, outbuf=441):\n",
    "    subsample = lambda b,l=1: slice(b, b + l-1 + outbuf + inbuf)\n",
    "    batch = lambda b: subsample(batchsize*(b-1), batchsize)\n",
    "    \n",
    "    datadir = os.path.join(os.path.abspath(\"..\\data\"),os.path.split(sample_folder)[-1])\n",
    "    if not os.path.exists(datadir):\n",
    "        os.mkdir(datadir)\n",
    "    samples = []\n",
    "    names = []\n",
    "    for fn in os.listdir(sample_folder):\n",
    "        if not fn.endswith('.wav'):\n",
    "            continue\n",
    "        sample_file = os.path.join(sample_folder,fn)\n",
    "        names.append(sample_file)\n",
    "        (sample_rate,data) = wavread(sample_file)\n",
    "        samples.append(data/np.iinfo(np.int16).max)\n",
    "    \n",
    "    total_batches = np.ceil(sum([len(d[:,0]) for d in samples])/batchsize)\n",
    "    fn_len = int(np.log10(total_batches+1))+1                            \n",
    "    \n",
    "    batch_count = 1\n",
    "    \n",
    "    for s,name in zip(samples,names):\n",
    "        usable_len = s.shape[0] - inbuf - outbuf + 1\n",
    "        batches = int(np.ceil(usable_len/batchsize))\n",
    "        print(\"Saving %d batches from %s to %s\" % (batches,os.path.split(name)[-1],datadir))\n",
    "        for b in range(1,batches+1):\n",
    "            dct = {\n",
    "            \"filename\": name,\n",
    "            \"start\": inbuf + b*batchsize,\n",
    "            \"samples\": batchsize,\n",
    "            \"X\": s[batch(b),0],\n",
    "            \"Y\": s[batch(b),1],\n",
    "            }\n",
    "            with open(os.path.join(datadir,\"%0*d.pkl\"%(fn_len,batch_count)),'wb') as f:\n",
    "                pickle.dump(dct,f)\n",
    "#                 print(\"Saved batch %0*d\" % (fn_len,batch_count))\n",
    "                batch_count+=1    "
   ]
  },
  {
   "cell_type": "code",
   "execution_count": 103,
   "metadata": {},
   "outputs": [
    {
     "name": "stderr",
     "output_type": "stream",
     "text": [
      "C:\\ProgramData\\Anaconda3\\lib\\site-packages\\ipykernel_launcher.py:15: WavFileWarning: Chunk (non-data) not understood, skipping it.\n",
      "  from ipykernel import kernelapp as app\n"
     ]
    },
    {
     "name": "stdout",
     "output_type": "stream",
     "text": [
      "Saving 120 batches from RECORD_0.wav to E:\\Dev\\head-sim\\data\\chorus\n",
      "Saving 118 batches from RECORD_1.wav to E:\\Dev\\head-sim\\data\\chorus\n",
      "Saving 341 batches from clean LP.wav to E:\\Dev\\head-sim\\data\\HT5 clean\n",
      "Saving 494 batches from clean strat.wav to E:\\Dev\\head-sim\\data\\HT5 clean\n",
      "Saving 450 batches from clean yamaha.wav to E:\\Dev\\head-sim\\data\\HT5 clean\n",
      "Saving 322 batches from dirty_strat.wav to E:\\Dev\\head-sim\\data\\HT5 clean\n",
      "Saving 542 batches from LP.wav to E:\\Dev\\head-sim\\data\\HT5 dirty\n",
      "Saving 1313 batches from LP_2.wav to E:\\Dev\\head-sim\\data\\HT5 dirty\n",
      "Saving 800 batches from LP_3.wav to E:\\Dev\\head-sim\\data\\HT5 dirty\n",
      "Saving 413 batches from strat.wav to E:\\Dev\\head-sim\\data\\HT5 dirty\n",
      "Saving 592 batches from yamaha.wav to E:\\Dev\\head-sim\\data\\HT5 dirty\n",
      "Saving 779 batches from yamaha_highgain.wav to E:\\Dev\\head-sim\\data\\HT5 dirty\n",
      "Saving 53 batches from stratp1_ht5.wav to E:\\Dev\\head-sim\\data\\HT5 preamp\n",
      "Saving 58 batches from stratp4_ht5.wav to E:\\Dev\\head-sim\\data\\HT5 preamp\n",
      "Saving 46 batches from stratp5_ht5.wav to E:\\Dev\\head-sim\\data\\HT5 preamp\n"
     ]
    }
   ],
   "source": [
    "samplesdir = os.path.abspath(\"..\\samples\")\n",
    "folders = [os.path.join(samplesdir,fn) for fn in os.listdir(samplesdir) if os.path.isdir(os.path.join(samplesdir,fn))]\n",
    "\n",
    "\n",
    "for f in folders: \n",
    "    genbatches(f,tti(0.5), ms_to_idx(100), ms_to_idx(10))"
   ]
  }
 ],
 "metadata": {
  "kernelspec": {
   "display_name": "Python 3",
   "language": "python",
   "name": "python3"
  },
  "language_info": {
   "codemirror_mode": {
    "name": "ipython",
    "version": 3
   },
   "file_extension": ".py",
   "mimetype": "text/x-python",
   "name": "python",
   "nbconvert_exporter": "python",
   "pygments_lexer": "ipython3",
   "version": "3.7.4"
  }
 },
 "nbformat": 4,
 "nbformat_minor": 2
}
